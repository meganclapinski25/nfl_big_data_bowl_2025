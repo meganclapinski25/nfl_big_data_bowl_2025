{
 "cells": [
  {
   "cell_type": "code",
   "execution_count": null,
   "metadata": {},
   "outputs": [],
   "source": [
    "#libraries\n",
    "import pandas as pd\n",
    "\n",
    "#Load in Datasets \n",
    "\n",
    "games = pd.read_csv(\"games.csv\")\n",
    "players = pd.read_csv(\"players.csv\")\n",
    "plays = pd.read_csv(\"plays.csv\")\n",
    "player_play = pd.read_csv(\"player_play.csv\")\n",
    "\n",
    "# Tracking data for weeks 1 - 9 \n",
    "\n",
    "tracking_data = []\n",
    "\n",
    "for week in range (1, 10):\n",
    "    file_name = f\"tracking_week_{week}.csv\"\n",
    "    temp = pd.read_csv(file_name)\n",
    "    tracking_data.append(temp)\n",
    "    \n",
    "    \n",
    "tracking = pd.concat(tracking_data, ignore_index= True)\n",
    "\n",
    "# print(\"Games:\", games.head())\n",
    "# print(\"Players:\", players.head())\n",
    "# print(\"Plays:\", plays.head())\n",
    "# print(\"Player-Play:\", player_play.head())\n",
    "# print(\"Tracking:\", tracking.head())\n",
    "\n"
   ]
  },
  {
   "cell_type": "markdown",
   "metadata": {},
   "source": [
    "## Merged Data by GameId"
   ]
  },
  {
   "cell_type": "code",
   "execution_count": null,
   "metadata": {},
   "outputs": [],
   "source": [
    "merged_data = pd.merge(plays, games, on = \"gameId\")\n",
    "merged_data = pd.merge(merged_data, player_play, on = [\"gameId\", \"playId\"])\n",
    "\n",
    "print(merged_data.head())\n",
    "print(merged_data.isnull().sum())"
   ]
  },
  {
   "cell_type": "markdown",
   "metadata": {},
   "source": [
    "## Handeled Missing Data "
   ]
  },
  {
   "cell_type": "code",
   "execution_count": null,
   "metadata": {},
   "outputs": [],
   "source": [
    "merged_data.dropna(inplace=True)\n",
    "merged_data.fillna(0, inplace=True)"
   ]
  }
 ],
 "metadata": {
  "kernelspec": {
   "display_name": "Python 3",
   "language": "python",
   "name": "python3"
  },
  "language_info": {
   "codemirror_mode": {
    "name": "ipython",
    "version": 3
   },
   "file_extension": ".py",
   "mimetype": "text/x-python",
   "name": "python",
   "nbconvert_exporter": "python",
   "pygments_lexer": "ipython3",
   "version": "3.9.6"
  }
 },
 "nbformat": 4,
 "nbformat_minor": 2
}
